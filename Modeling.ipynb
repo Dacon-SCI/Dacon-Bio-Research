{
 "cells": [
  {
   "cell_type": "markdown",
   "metadata": {
    "id": "a9Lt1L1FUGQm"
   },
   "source": [
    "# Data Processing"
   ]
  },
  {
   "cell_type": "code",
   "execution_count": 4,
   "metadata": {
    "ExecuteTime": {
     "end_time": "2024-10-22T13:33:52.695836Z",
     "start_time": "2024-10-22T13:33:52.693242Z"
    },
    "colab": {
     "base_uri": "https://localhost:8080/"
    },
    "id": "yUGmc4M9OLbI",
    "outputId": "97b4e816-66cf-448c-955b-93dbbbf43b34"
   },
   "outputs": [],
   "source": [
    "from google.colab import drive,output\n",
    "drive.mount('/content/drive')"
   ]
  },
  {
   "cell_type": "code",
   "execution_count": 5,
   "metadata": {
    "ExecuteTime": {
     "end_time": "2024-10-22T13:34:00.476824Z",
     "start_time": "2024-10-22T13:33:52.714428Z"
    },
    "id": "8Td1cD5dky1K"
   },
   "outputs": [
    {
     "name": "stdout",
     "output_type": "stream",
     "text": [
      "Requirement already satisfied: catboost in /Users/seoeunseo/miniconda/lib/python3.10/site-packages (1.1.1)\r\n",
      "Requirement already satisfied: graphviz in /Users/seoeunseo/miniconda/lib/python3.10/site-packages (from catboost) (0.20.1)\r\n",
      "Requirement already satisfied: matplotlib in /Users/seoeunseo/miniconda/lib/python3.10/site-packages (from catboost) (3.7.2)\r\n",
      "Requirement already satisfied: numpy>=1.16.0 in /Users/seoeunseo/miniconda/lib/python3.10/site-packages (from catboost) (1.26.4)\r\n",
      "Requirement already satisfied: pandas>=0.24.0 in /Users/seoeunseo/miniconda/lib/python3.10/site-packages (from catboost) (2.2.2)\r\n",
      "Requirement already satisfied: scipy in /Users/seoeunseo/miniconda/lib/python3.10/site-packages (from catboost) (1.10.1)\r\n",
      "Requirement already satisfied: plotly in /Users/seoeunseo/miniconda/lib/python3.10/site-packages (from catboost) (5.15.0)\r\n",
      "Requirement already satisfied: six in /Users/seoeunseo/miniconda/lib/python3.10/site-packages (from catboost) (1.16.0)\r\n",
      "Requirement already satisfied: python-dateutil>=2.8.2 in /Users/seoeunseo/miniconda/lib/python3.10/site-packages (from pandas>=0.24.0->catboost) (2.8.2)\r\n",
      "Requirement already satisfied: pytz>=2020.1 in /Users/seoeunseo/miniconda/lib/python3.10/site-packages (from pandas>=0.24.0->catboost) (2023.3)\r\n",
      "Requirement already satisfied: tzdata>=2022.7 in /Users/seoeunseo/miniconda/lib/python3.10/site-packages (from pandas>=0.24.0->catboost) (2023.3)\r\n",
      "Requirement already satisfied: contourpy>=1.0.1 in /Users/seoeunseo/miniconda/lib/python3.10/site-packages (from matplotlib->catboost) (1.1.0)\r\n",
      "Requirement already satisfied: cycler>=0.10 in /Users/seoeunseo/miniconda/lib/python3.10/site-packages (from matplotlib->catboost) (0.11.0)\r\n",
      "Requirement already satisfied: fonttools>=4.22.0 in /Users/seoeunseo/miniconda/lib/python3.10/site-packages (from matplotlib->catboost) (4.42.0)\r\n",
      "Requirement already satisfied: kiwisolver>=1.0.1 in /Users/seoeunseo/miniconda/lib/python3.10/site-packages (from matplotlib->catboost) (1.4.4)\r\n",
      "Requirement already satisfied: packaging>=20.0 in /Users/seoeunseo/miniconda/lib/python3.10/site-packages (from matplotlib->catboost) (23.2)\r\n",
      "Requirement already satisfied: pillow>=6.2.0 in /Users/seoeunseo/miniconda/lib/python3.10/site-packages (from matplotlib->catboost) (10.3.0)\r\n",
      "Requirement already satisfied: pyparsing<3.1,>=2.3.1 in /Users/seoeunseo/miniconda/lib/python3.10/site-packages (from matplotlib->catboost) (3.0.9)\r\n",
      "Requirement already satisfied: tenacity>=6.2.0 in /Users/seoeunseo/miniconda/lib/python3.10/site-packages (from plotly->catboost) (8.2.2)\r\n",
      "\r\n",
      "\u001b[1m[\u001b[0m\u001b[34;49mnotice\u001b[0m\u001b[1;39;49m]\u001b[0m\u001b[39;49m A new release of pip is available: \u001b[0m\u001b[31;49m24.1.1\u001b[0m\u001b[39;49m -> \u001b[0m\u001b[32;49m24.2\u001b[0m\r\n",
      "\u001b[1m[\u001b[0m\u001b[34;49mnotice\u001b[0m\u001b[1;39;49m]\u001b[0m\u001b[39;49m To update, run: \u001b[0m\u001b[32;49mpip install --upgrade pip\u001b[0m\r\n",
      "Requirement already satisfied: optuna in /Users/seoeunseo/miniconda/lib/python3.10/site-packages (3.4.0)\r\n",
      "Requirement already satisfied: alembic>=1.5.0 in /Users/seoeunseo/miniconda/lib/python3.10/site-packages (from optuna) (1.13.0)\r\n",
      "Requirement already satisfied: colorlog in /Users/seoeunseo/miniconda/lib/python3.10/site-packages (from optuna) (6.8.0)\r\n",
      "Requirement already satisfied: numpy in /Users/seoeunseo/miniconda/lib/python3.10/site-packages (from optuna) (1.26.4)\r\n",
      "Requirement already satisfied: packaging>=20.0 in /Users/seoeunseo/miniconda/lib/python3.10/site-packages (from optuna) (23.2)\r\n",
      "Requirement already satisfied: sqlalchemy>=1.3.0 in /Users/seoeunseo/miniconda/lib/python3.10/site-packages (from optuna) (2.0.23)\r\n",
      "Requirement already satisfied: tqdm in /Users/seoeunseo/miniconda/lib/python3.10/site-packages (from optuna) (4.65.0)\r\n",
      "Requirement already satisfied: PyYAML in /Users/seoeunseo/miniconda/lib/python3.10/site-packages (from optuna) (6.0.1)\r\n",
      "Requirement already satisfied: Mako in /Users/seoeunseo/miniconda/lib/python3.10/site-packages (from alembic>=1.5.0->optuna) (1.3.0)\r\n",
      "Requirement already satisfied: typing-extensions>=4 in /Users/seoeunseo/miniconda/lib/python3.10/site-packages (from alembic>=1.5.0->optuna) (4.12.2)\r\n",
      "Requirement already satisfied: MarkupSafe>=0.9.2 in /Users/seoeunseo/miniconda/lib/python3.10/site-packages (from Mako->alembic>=1.5.0->optuna) (2.1.3)\r\n",
      "\r\n",
      "\u001b[1m[\u001b[0m\u001b[34;49mnotice\u001b[0m\u001b[1;39;49m]\u001b[0m\u001b[39;49m A new release of pip is available: \u001b[0m\u001b[31;49m24.1.1\u001b[0m\u001b[39;49m -> \u001b[0m\u001b[32;49m24.2\u001b[0m\r\n",
      "\u001b[1m[\u001b[0m\u001b[34;49mnotice\u001b[0m\u001b[1;39;49m]\u001b[0m\u001b[39;49m To update, run: \u001b[0m\u001b[32;49mpip install --upgrade pip\u001b[0m\r\n",
      "Requirement already satisfied: category_encoders in /Users/seoeunseo/miniconda/lib/python3.10/site-packages (2.6.2)\r\n",
      "Requirement already satisfied: numpy>=1.14.0 in /Users/seoeunseo/miniconda/lib/python3.10/site-packages (from category_encoders) (1.26.4)\r\n",
      "Requirement already satisfied: scikit-learn>=0.20.0 in /Users/seoeunseo/miniconda/lib/python3.10/site-packages (from category_encoders) (1.3.0)\r\n",
      "Requirement already satisfied: scipy>=1.0.0 in /Users/seoeunseo/miniconda/lib/python3.10/site-packages (from category_encoders) (1.10.1)\r\n",
      "Requirement already satisfied: statsmodels>=0.9.0 in /Users/seoeunseo/miniconda/lib/python3.10/site-packages (from category_encoders) (0.14.0)\r\n",
      "Requirement already satisfied: pandas>=1.0.5 in /Users/seoeunseo/miniconda/lib/python3.10/site-packages (from category_encoders) (2.2.2)\r\n",
      "Requirement already satisfied: patsy>=0.5.1 in /Users/seoeunseo/miniconda/lib/python3.10/site-packages (from category_encoders) (0.5.3)\r\n",
      "Requirement already satisfied: python-dateutil>=2.8.2 in /Users/seoeunseo/miniconda/lib/python3.10/site-packages (from pandas>=1.0.5->category_encoders) (2.8.2)\r\n",
      "Requirement already satisfied: pytz>=2020.1 in /Users/seoeunseo/miniconda/lib/python3.10/site-packages (from pandas>=1.0.5->category_encoders) (2023.3)\r\n",
      "Requirement already satisfied: tzdata>=2022.7 in /Users/seoeunseo/miniconda/lib/python3.10/site-packages (from pandas>=1.0.5->category_encoders) (2023.3)\r\n",
      "Requirement already satisfied: six in /Users/seoeunseo/miniconda/lib/python3.10/site-packages (from patsy>=0.5.1->category_encoders) (1.16.0)\r\n",
      "Requirement already satisfied: joblib>=1.1.1 in /Users/seoeunseo/miniconda/lib/python3.10/site-packages (from scikit-learn>=0.20.0->category_encoders) (1.3.2)\r\n",
      "Requirement already satisfied: threadpoolctl>=2.0.0 in /Users/seoeunseo/miniconda/lib/python3.10/site-packages (from scikit-learn>=0.20.0->category_encoders) (3.2.0)\r\n",
      "Requirement already satisfied: packaging>=21.3 in /Users/seoeunseo/miniconda/lib/python3.10/site-packages (from statsmodels>=0.9.0->category_encoders) (23.2)\r\n",
      "\r\n",
      "\u001b[1m[\u001b[0m\u001b[34;49mnotice\u001b[0m\u001b[1;39;49m]\u001b[0m\u001b[39;49m A new release of pip is available: \u001b[0m\u001b[31;49m24.1.1\u001b[0m\u001b[39;49m -> \u001b[0m\u001b[32;49m24.2\u001b[0m\r\n",
      "\u001b[1m[\u001b[0m\u001b[34;49mnotice\u001b[0m\u001b[1;39;49m]\u001b[0m\u001b[39;49m To update, run: \u001b[0m\u001b[32;49mpip install --upgrade pip\u001b[0m\r\n",
      "Requirement already satisfied: imbalanced-learn in /Users/seoeunseo/miniconda/lib/python3.10/site-packages (0.12.4)\r\n",
      "Requirement already satisfied: numpy>=1.17.3 in /Users/seoeunseo/miniconda/lib/python3.10/site-packages (from imbalanced-learn) (1.26.4)\r\n",
      "Requirement already satisfied: scipy>=1.5.0 in /Users/seoeunseo/miniconda/lib/python3.10/site-packages (from imbalanced-learn) (1.10.1)\r\n",
      "Requirement already satisfied: scikit-learn>=1.0.2 in /Users/seoeunseo/miniconda/lib/python3.10/site-packages (from imbalanced-learn) (1.3.0)\r\n",
      "Requirement already satisfied: joblib>=1.1.1 in /Users/seoeunseo/miniconda/lib/python3.10/site-packages (from imbalanced-learn) (1.3.2)\r\n",
      "Requirement already satisfied: threadpoolctl>=2.0.0 in /Users/seoeunseo/miniconda/lib/python3.10/site-packages (from imbalanced-learn) (3.2.0)\r\n",
      "\r\n",
      "\u001b[1m[\u001b[0m\u001b[34;49mnotice\u001b[0m\u001b[1;39;49m]\u001b[0m\u001b[39;49m A new release of pip is available: \u001b[0m\u001b[31;49m24.1.1\u001b[0m\u001b[39;49m -> \u001b[0m\u001b[32;49m24.2\u001b[0m\r\n",
      "\u001b[1m[\u001b[0m\u001b[34;49mnotice\u001b[0m\u001b[1;39;49m]\u001b[0m\u001b[39;49m To update, run: \u001b[0m\u001b[32;49mpip install --upgrade pip\u001b[0m\r\n"
     ]
    }
   ],
   "source": [
    "!pip install catboost\n",
    "!pip install optuna\n",
    "!pip install category_encoders\n",
    "!pip install imbalanced-learn  # imblearn이 설치되어 있지 않은 경우 설치\n",
    "output.clear()"
   ]
  },
  {
   "cell_type": "code",
   "execution_count": 6,
   "metadata": {
    "ExecuteTime": {
     "end_time": "2024-10-22T13:34:06.767297Z",
     "start_time": "2024-10-22T13:34:00.478519Z"
    },
    "id": "1BRGZcLhjdry"
   },
   "outputs": [],
   "source": [
    "# 필요한 라이브러리 불러오기\n",
    "import pandas as pd\n",
    "import numpy as np\n",
    "from sklearn.model_selection import train_test_split\n",
    "from sklearn.preprocessing import LabelEncoder\n",
    "from sklearn.metrics import f1_score\n",
    "from sklearn.utils.class_weight import compute_class_weight\n",
    "from catboost import CatBoostClassifier, Pool\n",
    "\n",
    "from category_encoders import CatBoostEncoder\n",
    "from imblearn.combine import SMOTEENN\n",
    "from sklearn.preprocessing import MultiLabelBinarizer\n",
    "\n",
    "import warnings\n",
    "warnings.filterwarnings(\"ignore\")  # Optional: Suppress warnings"
   ]
  },
  {
   "cell_type": "code",
   "execution_count": 7,
   "metadata": {
    "ExecuteTime": {
     "end_time": "2024-10-22T13:34:06.770939Z",
     "start_time": "2024-10-22T13:34:06.768504Z"
    },
    "collapsed": false
   },
   "outputs": [],
   "source": [
    "path = '/Users/seoeunseo/Desktop/DACON/제출파일/'"
   ]
  },
  {
   "cell_type": "code",
   "execution_count": 8,
   "metadata": {
    "ExecuteTime": {
     "end_time": "2024-10-22T13:34:18.319553Z",
     "start_time": "2024-10-22T13:34:06.772833Z"
    },
    "id": "X6KHzgWzOhZT"
   },
   "outputs": [],
   "source": [
    "train_df = pd.read_csv(path+\"final_train5.csv\",index_col=0)\n",
    "test_df = pd.read_csv(path+\"final_test5.csv\",index_col=0)\n",
    "\n",
    "# project_id 관련 컬럼 추출\n",
    "project_id_columns = [col for col in train_df.columns if 'project_id' in col]"
   ]
  },
  {
   "cell_type": "markdown",
   "metadata": {
    "id": "3vDzl8_C7yNx"
   },
   "source": [
    "# 모델링"
   ]
  },
  {
   "cell_type": "code",
   "execution_count": 9,
   "metadata": {
    "ExecuteTime": {
     "end_time": "2024-10-22T13:35:24.358096Z",
     "start_time": "2024-10-22T13:34:18.320902Z"
    },
    "id": "YyTV-eAWHmyc"
   },
   "outputs": [],
   "source": [
    "# Step 1: X와 y 데이터 준비\n",
    "# 'WT'와 각 돌연변이를 이진화하여 모델 입력으로 변환\n",
    "mlb = MultiLabelBinarizer()\n",
    "X = mlb.fit_transform(train_df[project_id_columns].apply(lambda x: x.values.tolist(), axis=1))\n",
    "\n",
    "# 각 행의 most_frequent_non_wt 값을 y로 설정\n",
    "y = train_df['SUBCLASS']\n",
    "\n",
    "# 레이블 인코딩\n",
    "le = LabelEncoder()\n",
    "y = le.fit_transform(y)\n",
    "\n",
    "# 카테고리 인코딩\n",
    "encoder = CatBoostEncoder()\n",
    "X_train_encoded = encoder.fit_transform(train_df.drop(project_id_columns + ['SUBCLASS', 'ID'], axis=1), y)\n",
    "\n",
    "# 최종 학습 데이터 생성\n",
    "train_X = pd.concat([X_train_encoded, pd.DataFrame(X)], axis=1)\n",
    "train_X.columns = train_X.columns.astype(str)"
   ]
  },
  {
   "cell_type": "code",
   "execution_count": 10,
   "metadata": {
    "ExecuteTime": {
     "end_time": "2024-10-22T13:37:02.644740Z",
     "start_time": "2024-10-22T13:35:24.360416Z"
    },
    "colab": {
     "base_uri": "https://localhost:8080/"
    },
    "id": "3rU4OSvsKpWT",
    "outputId": "acd78b75-12a9-4ae2-a0cf-5ecf0498a272"
   },
   "outputs": [
    {
     "name": "stdout",
     "output_type": "stream",
     "text": [
      "Original dataset shape: (6201, 4411)\n",
      "Resampled dataset shape: (15971, 4411)\n"
     ]
    }
   ],
   "source": [
    "# SMOTEENN 적용\n",
    "smote_enn = SMOTEENN(sampling_strategy='auto', random_state=42)\n",
    "X_resampled, y_resampled = smote_enn.fit_resample(train_X, y)\n",
    "\n",
    "# 리샘플링된 데이터 확인 (선택 사항)\n",
    "print(f\"Original dataset shape: {train_X.shape}\")\n",
    "print(f\"Resampled dataset shape: {X_resampled.shape}\")"
   ]
  },
  {
   "cell_type": "code",
   "execution_count": 11,
   "metadata": {
    "ExecuteTime": {
     "end_time": "2024-10-22T13:37:04.143340Z",
     "start_time": "2024-10-22T13:37:02.646642Z"
    },
    "id": "06m0s3tuWN71"
   },
   "outputs": [],
   "source": [
    "# 데이터 분할\n",
    "X_train, X_valid, y_train, y_valid = train_test_split(\n",
    "    X_resampled, y_resampled, test_size=0.2, random_state=42, stratify=y_resampled\n",
    ")\n",
    "\n",
    "# 설정\n",
    "random_state = 42\n",
    "n_trials = 10  # 최적화를 더 잘 수행하기 위해 n_trials를 증가시킴\n",
    "\n",
    "# 클래스 가중치 계산\n",
    "classes = np.unique(y_train)\n",
    "weights = compute_class_weight(class_weight='balanced', classes=classes, y=y_train)\n",
    "class_weights = [weights[i] for i in range(len(classes))]  # 리스트 형태로 변환\n",
    "\n",
    "# CatBoost용 Pool 객체 생성 (범주형 피처 지정이 필요하면 cat_features 인수 추가)\n",
    "train_pool_full = Pool(X_train, y_train)\n",
    "valid_pool = Pool(X_valid, y_valid)"
   ]
  },
  {
   "cell_type": "markdown",
   "metadata": {
    "id": "rxHrj9GggTmJ"
   },
   "source": [
    "# CatBoost"
   ]
  },
  {
   "cell_type": "code",
   "execution_count": 12,
   "metadata": {
    "ExecuteTime": {
     "end_time": "2024-10-22T13:37:05.035170Z",
     "start_time": "2024-10-22T13:37:04.145128Z"
    },
    "colab": {
     "base_uri": "https://localhost:8080/"
    },
    "id": "Jn5nqkLNgVaC",
    "outputId": "b1fad7a8-a075-44e0-daf5-f879dbf3a5d7"
   },
   "outputs": [
    {
     "ename": "CatBoostError",
     "evalue": "catboost/libs/train_lib/trainer_env.cpp:9: Environment for task type [GPU] not found",
     "output_type": "error",
     "traceback": [
      "\u001b[0;31m---------------------------------------------------------------------------\u001b[0m",
      "\u001b[0;31mCatBoostError\u001b[0m                             Traceback (most recent call last)",
      "Cell \u001b[0;32mIn[12], line 18\u001b[0m\n\u001b[1;32m      1\u001b[0m \u001b[38;5;66;03m# 최적의 하이퍼파라미터로 최종 모델 학습\u001b[39;00m\n\u001b[1;32m      2\u001b[0m final_model \u001b[38;5;241m=\u001b[39m CatBoostClassifier(\n\u001b[1;32m      3\u001b[0m     iterations\u001b[38;5;241m=\u001b[39m\u001b[38;5;241m687\u001b[39m,\n\u001b[1;32m      4\u001b[0m     learning_rate\u001b[38;5;241m=\u001b[39m\u001b[38;5;241m0.07969454818643935\u001b[39m,\n\u001b[0;32m   (...)\u001b[0m\n\u001b[1;32m     15\u001b[0m     random_seed\u001b[38;5;241m=\u001b[39mrandom_state\n\u001b[1;32m     16\u001b[0m )\n\u001b[0;32m---> 18\u001b[0m \u001b[43mfinal_model\u001b[49m\u001b[38;5;241;43m.\u001b[39;49m\u001b[43mfit\u001b[49m\u001b[43m(\u001b[49m\n\u001b[1;32m     19\u001b[0m \u001b[43m    \u001b[49m\u001b[43mtrain_pool_full\u001b[49m\u001b[43m,\u001b[49m\n\u001b[1;32m     20\u001b[0m \u001b[43m    \u001b[49m\u001b[43meval_set\u001b[49m\u001b[38;5;241;43m=\u001b[39;49m\u001b[43mvalid_pool\u001b[49m\u001b[43m,\u001b[49m\n\u001b[1;32m     21\u001b[0m \u001b[43m    \u001b[49m\u001b[43mearly_stopping_rounds\u001b[49m\u001b[38;5;241;43m=\u001b[39;49m\u001b[38;5;241;43m50\u001b[39;49m\u001b[43m,\u001b[49m\n\u001b[1;32m     22\u001b[0m \u001b[43m    \u001b[49m\u001b[43muse_best_model\u001b[49m\u001b[38;5;241;43m=\u001b[39;49m\u001b[38;5;28;43;01mTrue\u001b[39;49;00m\u001b[43m,\u001b[49m\n\u001b[1;32m     23\u001b[0m \u001b[43m    \u001b[49m\u001b[43mverbose\u001b[49m\u001b[38;5;241;43m=\u001b[39;49m\u001b[38;5;28;43;01mFalse\u001b[39;49;00m\n\u001b[1;32m     24\u001b[0m \u001b[43m)\u001b[49m\n\u001b[1;32m     26\u001b[0m \u001b[38;5;66;03m# 예측 및 평가\u001b[39;00m\n\u001b[1;32m     27\u001b[0m y_pred_encoded \u001b[38;5;241m=\u001b[39m final_model\u001b[38;5;241m.\u001b[39mpredict(valid_pool)\n",
      "File \u001b[0;32m~/miniconda/lib/python3.10/site-packages/catboost/core.py:5128\u001b[0m, in \u001b[0;36mCatBoostClassifier.fit\u001b[0;34m(self, X, y, cat_features, text_features, embedding_features, sample_weight, baseline, use_best_model, eval_set, verbose, logging_level, plot, plot_file, column_description, verbose_eval, metric_period, silent, early_stopping_rounds, save_snapshot, snapshot_file, snapshot_interval, init_model, callbacks, log_cout, log_cerr)\u001b[0m\n\u001b[1;32m   5125\u001b[0m \u001b[38;5;28;01mif\u001b[39;00m \u001b[38;5;124m'\u001b[39m\u001b[38;5;124mloss_function\u001b[39m\u001b[38;5;124m'\u001b[39m \u001b[38;5;129;01min\u001b[39;00m params:\n\u001b[1;32m   5126\u001b[0m     CatBoostClassifier\u001b[38;5;241m.\u001b[39m_check_is_compatible_loss(params[\u001b[38;5;124m'\u001b[39m\u001b[38;5;124mloss_function\u001b[39m\u001b[38;5;124m'\u001b[39m])\n\u001b[0;32m-> 5128\u001b[0m \u001b[38;5;28;43mself\u001b[39;49m\u001b[38;5;241;43m.\u001b[39;49m\u001b[43m_fit\u001b[49m\u001b[43m(\u001b[49m\u001b[43mX\u001b[49m\u001b[43m,\u001b[49m\u001b[43m \u001b[49m\u001b[43my\u001b[49m\u001b[43m,\u001b[49m\u001b[43m \u001b[49m\u001b[43mcat_features\u001b[49m\u001b[43m,\u001b[49m\u001b[43m \u001b[49m\u001b[43mtext_features\u001b[49m\u001b[43m,\u001b[49m\u001b[43m \u001b[49m\u001b[43membedding_features\u001b[49m\u001b[43m,\u001b[49m\u001b[43m \u001b[49m\u001b[38;5;28;43;01mNone\u001b[39;49;00m\u001b[43m,\u001b[49m\u001b[43m \u001b[49m\u001b[43msample_weight\u001b[49m\u001b[43m,\u001b[49m\u001b[43m \u001b[49m\u001b[38;5;28;43;01mNone\u001b[39;49;00m\u001b[43m,\u001b[49m\u001b[43m \u001b[49m\u001b[38;5;28;43;01mNone\u001b[39;49;00m\u001b[43m,\u001b[49m\u001b[43m \u001b[49m\u001b[38;5;28;43;01mNone\u001b[39;49;00m\u001b[43m,\u001b[49m\u001b[43m \u001b[49m\u001b[38;5;28;43;01mNone\u001b[39;49;00m\u001b[43m,\u001b[49m\u001b[43m \u001b[49m\u001b[43mbaseline\u001b[49m\u001b[43m,\u001b[49m\u001b[43m \u001b[49m\u001b[43muse_best_model\u001b[49m\u001b[43m,\u001b[49m\n\u001b[1;32m   5129\u001b[0m \u001b[43m          \u001b[49m\u001b[43meval_set\u001b[49m\u001b[43m,\u001b[49m\u001b[43m \u001b[49m\u001b[43mverbose\u001b[49m\u001b[43m,\u001b[49m\u001b[43m \u001b[49m\u001b[43mlogging_level\u001b[49m\u001b[43m,\u001b[49m\u001b[43m \u001b[49m\u001b[43mplot\u001b[49m\u001b[43m,\u001b[49m\u001b[43m \u001b[49m\u001b[43mplot_file\u001b[49m\u001b[43m,\u001b[49m\u001b[43m \u001b[49m\u001b[43mcolumn_description\u001b[49m\u001b[43m,\u001b[49m\u001b[43m \u001b[49m\u001b[43mverbose_eval\u001b[49m\u001b[43m,\u001b[49m\u001b[43m \u001b[49m\u001b[43mmetric_period\u001b[49m\u001b[43m,\u001b[49m\n\u001b[1;32m   5130\u001b[0m \u001b[43m          \u001b[49m\u001b[43msilent\u001b[49m\u001b[43m,\u001b[49m\u001b[43m \u001b[49m\u001b[43mearly_stopping_rounds\u001b[49m\u001b[43m,\u001b[49m\u001b[43m \u001b[49m\u001b[43msave_snapshot\u001b[49m\u001b[43m,\u001b[49m\u001b[43m \u001b[49m\u001b[43msnapshot_file\u001b[49m\u001b[43m,\u001b[49m\u001b[43m \u001b[49m\u001b[43msnapshot_interval\u001b[49m\u001b[43m,\u001b[49m\u001b[43m \u001b[49m\u001b[43minit_model\u001b[49m\u001b[43m,\u001b[49m\u001b[43m \u001b[49m\u001b[43mcallbacks\u001b[49m\u001b[43m,\u001b[49m\u001b[43m \u001b[49m\u001b[43mlog_cout\u001b[49m\u001b[43m,\u001b[49m\u001b[43m \u001b[49m\u001b[43mlog_cerr\u001b[49m\u001b[43m)\u001b[49m\n\u001b[1;32m   5131\u001b[0m \u001b[38;5;28;01mreturn\u001b[39;00m \u001b[38;5;28mself\u001b[39m\n",
      "File \u001b[0;32m~/miniconda/lib/python3.10/site-packages/catboost/core.py:2355\u001b[0m, in \u001b[0;36mCatBoost._fit\u001b[0;34m(self, X, y, cat_features, text_features, embedding_features, pairs, sample_weight, group_id, group_weight, subgroup_id, pairs_weight, baseline, use_best_model, eval_set, verbose, logging_level, plot, plot_file, column_description, verbose_eval, metric_period, silent, early_stopping_rounds, save_snapshot, snapshot_file, snapshot_interval, init_model, callbacks, log_cout, log_cerr)\u001b[0m\n\u001b[1;32m   2351\u001b[0m allow_clear_pool \u001b[38;5;241m=\u001b[39m train_params[\u001b[38;5;124m\"\u001b[39m\u001b[38;5;124mallow_clear_pool\u001b[39m\u001b[38;5;124m\"\u001b[39m]\n\u001b[1;32m   2353\u001b[0m \u001b[38;5;28;01mwith\u001b[39;00m log_fixup(log_cout, log_cerr), \\\n\u001b[1;32m   2354\u001b[0m     plot_wrapper(plot, plot_file, \u001b[38;5;124m'\u001b[39m\u001b[38;5;124mTraining plots\u001b[39m\u001b[38;5;124m'\u001b[39m, [_get_train_dir(\u001b[38;5;28mself\u001b[39m\u001b[38;5;241m.\u001b[39mget_params())]):\n\u001b[0;32m-> 2355\u001b[0m     \u001b[38;5;28;43mself\u001b[39;49m\u001b[38;5;241;43m.\u001b[39;49m\u001b[43m_train\u001b[49m\u001b[43m(\u001b[49m\n\u001b[1;32m   2356\u001b[0m \u001b[43m        \u001b[49m\u001b[43mtrain_pool\u001b[49m\u001b[43m,\u001b[49m\n\u001b[1;32m   2357\u001b[0m \u001b[43m        \u001b[49m\u001b[43mtrain_params\u001b[49m\u001b[43m[\u001b[49m\u001b[38;5;124;43m\"\u001b[39;49m\u001b[38;5;124;43meval_sets\u001b[39;49m\u001b[38;5;124;43m\"\u001b[39;49m\u001b[43m]\u001b[49m\u001b[43m,\u001b[49m\n\u001b[1;32m   2358\u001b[0m \u001b[43m        \u001b[49m\u001b[43mparams\u001b[49m\u001b[43m,\u001b[49m\n\u001b[1;32m   2359\u001b[0m \u001b[43m        \u001b[49m\u001b[43mallow_clear_pool\u001b[49m\u001b[43m,\u001b[49m\n\u001b[1;32m   2360\u001b[0m \u001b[43m        \u001b[49m\u001b[43mtrain_params\u001b[49m\u001b[43m[\u001b[49m\u001b[38;5;124;43m\"\u001b[39;49m\u001b[38;5;124;43minit_model\u001b[39;49m\u001b[38;5;124;43m\"\u001b[39;49m\u001b[43m]\u001b[49m\n\u001b[1;32m   2361\u001b[0m \u001b[43m    \u001b[49m\u001b[43m)\u001b[49m\n\u001b[1;32m   2363\u001b[0m \u001b[38;5;66;03m# Have property feature_importance possibly set\u001b[39;00m\n\u001b[1;32m   2364\u001b[0m loss \u001b[38;5;241m=\u001b[39m \u001b[38;5;28mself\u001b[39m\u001b[38;5;241m.\u001b[39m_object\u001b[38;5;241m.\u001b[39m_get_loss_function_name()\n",
      "File \u001b[0;32m~/miniconda/lib/python3.10/site-packages/catboost/core.py:1759\u001b[0m, in \u001b[0;36m_CatBoostBase._train\u001b[0;34m(self, train_pool, test_pool, params, allow_clear_pool, init_model)\u001b[0m\n\u001b[1;32m   1758\u001b[0m \u001b[38;5;28;01mdef\u001b[39;00m \u001b[38;5;21m_train\u001b[39m(\u001b[38;5;28mself\u001b[39m, train_pool, test_pool, params, allow_clear_pool, init_model):\n\u001b[0;32m-> 1759\u001b[0m     \u001b[38;5;28;43mself\u001b[39;49m\u001b[38;5;241;43m.\u001b[39;49m\u001b[43m_object\u001b[49m\u001b[38;5;241;43m.\u001b[39;49m\u001b[43m_train\u001b[49m\u001b[43m(\u001b[49m\u001b[43mtrain_pool\u001b[49m\u001b[43m,\u001b[49m\u001b[43m \u001b[49m\u001b[43mtest_pool\u001b[49m\u001b[43m,\u001b[49m\u001b[43m \u001b[49m\u001b[43mparams\u001b[49m\u001b[43m,\u001b[49m\u001b[43m \u001b[49m\u001b[43mallow_clear_pool\u001b[49m\u001b[43m,\u001b[49m\u001b[43m \u001b[49m\u001b[43minit_model\u001b[49m\u001b[38;5;241;43m.\u001b[39;49m\u001b[43m_object\u001b[49m\u001b[43m \u001b[49m\u001b[38;5;28;43;01mif\u001b[39;49;00m\u001b[43m \u001b[49m\u001b[43minit_model\u001b[49m\u001b[43m \u001b[49m\u001b[38;5;28;43;01melse\u001b[39;49;00m\u001b[43m \u001b[49m\u001b[38;5;28;43;01mNone\u001b[39;49;00m\u001b[43m)\u001b[49m\n\u001b[1;32m   1760\u001b[0m     \u001b[38;5;28mself\u001b[39m\u001b[38;5;241m.\u001b[39m_set_trained_model_attributes()\n",
      "File \u001b[0;32m_catboost.pyx:4623\u001b[0m, in \u001b[0;36m_catboost._CatBoost._train\u001b[0;34m()\u001b[0m\n",
      "File \u001b[0;32m_catboost.pyx:4672\u001b[0m, in \u001b[0;36m_catboost._CatBoost._train\u001b[0;34m()\u001b[0m\n",
      "\u001b[0;31mCatBoostError\u001b[0m: catboost/libs/train_lib/trainer_env.cpp:9: Environment for task type [GPU] not found"
     ]
    }
   ],
   "source": [
    "# 최적의 하이퍼파라미터로 최종 모델 학습\n",
    "final_model = CatBoostClassifier(\n",
    "    iterations=687,\n",
    "    learning_rate=0.07969454818643935,\n",
    "    depth=7,\n",
    "    l2_leaf_reg=6.387926357773329,\n",
    "    random_strength=2.4041677639819286,\n",
    "    bagging_temperature=0.15599452033620265,\n",
    "    one_hot_max_size=2,\n",
    "    class_weights=class_weights,\n",
    "    loss_function='MultiClass',\n",
    "    task_type='GPU',\n",
    "    devices='0',\n",
    "    verbose=0,\n",
    "    random_seed=random_state\n",
    ")\n",
    "\n",
    "final_model.fit(\n",
    "    train_pool_full,\n",
    "    eval_set=valid_pool,\n",
    "    early_stopping_rounds=50,\n",
    "    use_best_model=True,\n",
    "    verbose=False\n",
    ")\n",
    "\n",
    "# 예측 및 평가\n",
    "y_pred_encoded = final_model.predict(valid_pool)\n",
    "\n",
    "# Macro F1-Score 계산\n",
    "macro_f1 = f1_score(y_valid, y_pred_encoded, average='macro')\n",
    "print(f'Macro F1-Score: {macro_f1:.4f}')\n",
    "\n",
    "# 예측값을 원래 SUBCLASS로 복원\n",
    "y_pred = le.inverse_transform(y_pred_encoded.astype(int))\n",
    "\n",
    "# 실제 값도 원래 SUBCLASS로 복원\n",
    "y_valid_original = le.inverse_transform(y_valid)\n",
    "\n",
    "# 예측과 실제 값의 일부 출력\n",
    "print(f'Original Predicted Classes: {y_pred[:10]}')\n",
    "print(f'Original True Classes: {y_valid_original[:10]}')"
   ]
  },
  {
   "cell_type": "code",
   "execution_count": null,
   "metadata": {
    "id": "j_BtLeW1dTNh"
   },
   "outputs": [],
   "source": [
    "class CancerClassifier:\n",
    "    def __init__(self, model, encoder, le, mlb):\n",
    "        self.model = model\n",
    "        self.encoder = encoder\n",
    "        self.le = le\n",
    "        self.mlb = mlb\n",
    "\n",
    "    def predict(self, test_df):\n",
    "        # 원본 데이터 수정 방지를 위해 복사\n",
    "        test_df = test_df.copy()\n",
    "\n",
    "        # 'ID' 열 제거\n",
    "        if 'ID' in test_df.columns:\n",
    "            test_X = test_df.drop(columns=['ID'])\n",
    "        else:\n",
    "            test_X = test_df.copy()\n",
    "\n",
    "        # 'project_id'로 시작하는 컬럼 식별\n",
    "        project_id_columns = [col for col in test_X.columns if 'project_id' in col]\n",
    "\n",
    "        # 'SUBCLASS' 열 초기화\n",
    "        test_df['SUBCLASS'] = None\n",
    "\n",
    "        # 1단계: 'project_id'를 사용하여 'SUBCLASS' 할당\n",
    "        if project_id_columns:\n",
    "            # 'WT'가 아닌 가장 빈도가 높은 값을 'SUBCLASS'로 할당하는 함수\n",
    "            def most_frequent_non_wt(row):\n",
    "                non_wt_values = row[row != 'WT']\n",
    "                if non_wt_values.empty:\n",
    "                    return None\n",
    "                mode_value = non_wt_values.mode()[0]  # 최빈값\n",
    "                count = (non_wt_values == mode_value).sum()  # 최빈값의 개수\n",
    "                return mode_value if count > 6 else None  # 최빈값이 6를 넘으면 할당, 그렇지 않으면 None\n",
    "\n",
    "            # 각 행에 함수 적용\n",
    "            test_df['SUBCLASS'] = test_df[project_id_columns].apply(most_frequent_non_wt, axis=1)\n",
    "\n",
    "        # 5개 이하로 예측된 값들이 None으로 설정된 행들 식별\n",
    "        missing_indices = test_df['SUBCLASS'].isna()\n",
    "\n",
    "        # 2단계: AI 모델을 사용하여 'SUBCLASS' 예측\n",
    "        if missing_indices.any():\n",
    "            # 모델을 위한 데이터 준비\n",
    "            test_X_missing = test_X.loc[missing_indices]\n",
    "\n",
    "            # 'project_id' 컬럼 이진화 (학습 시 사용한 mlb를 사용)\n",
    "            X_project_id = self.mlb.transform(test_X_missing[project_id_columns].apply(lambda x: x.values.tolist(), axis=1))\n",
    "            X_project_id = pd.DataFrame(X_project_id, index=test_X_missing.index)\n",
    "\n",
    "            # 나머지 컬럼들 선택 (project_id 컬럼 제외)\n",
    "            test_X_missing_other = test_X_missing.drop(columns=project_id_columns)\n",
    "\n",
    "            # 범주형 변수 인코딩\n",
    "            test_X_missing_encoded = self.encoder.transform(test_X_missing_other)\n",
    "\n",
    "            # 최종 입력 데이터 생성\n",
    "            test_X_missing_final = pd.concat([test_X_missing_encoded.reset_index(drop=True), X_project_id.reset_index(drop=True)], axis=1)\n",
    "            test_X_missing_final.columns = test_X_missing_final.columns.astype(str)\n",
    "\n",
    "            # 모델을 사용하여 예측\n",
    "            y_test_pred_encoded = self.model.predict(test_X_missing_final)\n",
    "\n",
    "            # 예측 결과를 원래 라벨로 변환\n",
    "            original_labels = self.le.inverse_transform(y_test_pred_encoded.astype(int))\n",
    "\n",
    "            # 예측된 'SUBCLASS'를 누락된 인덱스에 할당\n",
    "            test_df.loc[missing_indices, 'SUBCLASS'] = original_labels\n",
    "\n",
    "        # 최종 'SUBCLASS' 예측 반환\n",
    "        return test_df['SUBCLASS']"
   ]
  },
  {
   "cell_type": "code",
   "execution_count": null,
   "metadata": {
    "id": "HN2MRl9FdOa_"
   },
   "outputs": [],
   "source": [
    "# 학습된 모델과 전처리 도구들을 사용하여 분류기 초기화\n",
    "classifier = CancerClassifier(\n",
    "    model=final_model,\n",
    "    encoder=encoder,\n",
    "    le=le,\n",
    "    mlb=mlb\n",
    ")"
   ]
  },
  {
   "cell_type": "markdown",
   "metadata": {
    "id": "IG7RildQXPWd"
   },
   "source": [
    "# Submission"
   ]
  },
  {
   "cell_type": "code",
   "execution_count": null,
   "metadata": {
    "id": "Q5gtZtNUZL-V"
   },
   "outputs": [],
   "source": [
    "# 예측 수행\n",
    "test_df['SUBCLASS'] = classifier.predict(test_df)\n",
    "\n",
    "# 제출 파일 생성 및 저장\n",
    "submission_path = path+\"sample_submission.csv\"\n",
    "submission = pd.read_csv(submission_path)\n",
    "submission['SUBCLASS'] = test_df['SUBCLASS']"
   ]
  },
  {
   "cell_type": "code",
   "execution_count": null,
   "metadata": {
    "colab": {
     "base_uri": "https://localhost:8080/"
    },
    "id": "9r6jzsZqXEaz",
    "outputId": "8b52475e-fa29-41e1-def5-cf7679103719"
   },
   "outputs": [],
   "source": [
    "submission['SUBCLASS'].value_counts()"
   ]
  },
  {
   "cell_type": "code",
   "execution_count": null,
   "metadata": {
    "colab": {
     "base_uri": "https://localhost:8080/"
    },
    "id": "Fwu-9MUJXLXC",
    "outputId": "ec6d03da-6cf1-4a1f-d288-eef0a0b94f3e"
   },
   "outputs": [],
   "source": [
    "# 제출 파일 저장\n",
    "output_path = path+\"sample_submission_code_1020_ver1(threshold6).csv\"\n",
    "submission.to_csv(output_path, index=False)\n",
    "\n",
    "print(f'Submission file saved to {output_path}')"
   ]
  }
 ],
 "metadata": {
  "accelerator": "GPU",
  "colab": {
   "gpuType": "A100",
   "provenance": []
  },
  "kernelspec": {
   "display_name": "Python 3 (ipykernel)",
   "language": "python",
   "name": "python3"
  },
  "language_info": {
   "name": "python"
  }
 },
 "nbformat": 4,
 "nbformat_minor": 0
}

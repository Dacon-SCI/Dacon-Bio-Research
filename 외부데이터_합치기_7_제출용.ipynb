{
 "cells": [
  {
   "cell_type": "code",
   "execution_count": 1,
   "metadata": {
    "ExecuteTime": {
     "end_time": "2024-10-22T13:17:03.577624Z",
     "start_time": "2024-10-22T13:16:58.716740Z"
    }
   },
   "outputs": [],
   "source": [
    "import pandas as pd\n",
    "import numpy as np\n",
    "import re"
   ]
  },
  {
   "cell_type": "code",
   "execution_count": 2,
   "metadata": {
    "ExecuteTime": {
     "end_time": "2024-10-22T13:17:05.258284Z",
     "start_time": "2024-10-22T13:17:05.254711Z"
    }
   },
   "outputs": [
    {
     "name": "stdout",
     "output_type": "stream",
     "text": [
      "Pandas 버전: 2.2.2\n",
      "NumPy 버전: 1.26.4\n",
      "re 버전: 2.2.1\n"
     ]
    }
   ],
   "source": [
    "print(\"Pandas 버전:\", pd.__version__)\n",
    "print(\"NumPy 버전:\", np.__version__)\n",
    "print(\"re 버전:\", re.__version__)"
   ]
  },
  {
   "cell_type": "code",
   "execution_count": 4,
   "metadata": {
    "ExecuteTime": {
     "end_time": "2024-10-22T13:17:56.530347Z",
     "start_time": "2024-10-22T13:17:56.526251Z"
    },
    "collapsed": false
   },
   "outputs": [],
   "source": [
    "path = '/Users/seoeunseo/Desktop/DACON/제출파일/'           # 폴더 경로 지정"
   ]
  },
  {
   "cell_type": "code",
   "execution_count": 6,
   "metadata": {
    "ExecuteTime": {
     "end_time": "2024-10-22T13:19:44.101640Z",
     "start_time": "2024-10-22T13:19:37.695515Z"
    }
   },
   "outputs": [],
   "source": [
    "train_df = pd.read_csv(path+\"train.csv\")\n",
    "test_df = pd.read_csv(path+\"test.csv\")\n",
    "tcga2_df = pd.read_csv(path+\"TCGA_2.csv\").drop('Unnamed: 0', axis=1)"
   ]
  },
  {
   "cell_type": "code",
   "execution_count": 7,
   "metadata": {
    "ExecuteTime": {
     "end_time": "2024-10-22T13:20:04.948917Z",
     "start_time": "2024-10-22T13:19:46.067686Z"
    }
   },
   "outputs": [],
   "source": [
    "# 만약 유전체 컬럼만으로 데이터프레임이 구성되어 있고, 타겟 변수 'SUBCLASS'만 제외하면 된다면:\n",
    "gene_columns = [col for col in train_df.columns if col != 'SUBCLASS']\n",
    "\n",
    "# 또는, 유전체 컬럼의 이름이 미리 리스트로 제공된 경우:\n",
    "# gene_columns = ['A2M', 'AAAS', 'ABCA1', ..., 'ZZZ3']  # 실제 유전체 컬럼 이름들로 구성된 리스트\n",
    "\n",
    "def keep_first_variant_multiple_columns(df, columns_list):\n",
    "    for column in columns_list:\n",
    "        # 변이 코드가 문자열인지 확인하고, 그렇지 않으면 그대로 둡니다.\n",
    "        df[column] = df[column].apply(lambda x: x.split(' ')[0] if isinstance(x, str) else x)\n",
    "    return df\n",
    "\n",
    "# 함수 적용\n",
    "train_df = keep_first_variant_multiple_columns(train_df, gene_columns)\n",
    "test_df = keep_first_variant_multiple_columns(test_df, gene_columns)"
   ]
  },
  {
   "cell_type": "markdown",
   "metadata": {},
   "source": [
    "### TCGA_2 데이터 전처리"
   ]
  },
  {
   "cell_type": "code",
   "execution_count": 4,
   "metadata": {},
   "outputs": [
    {
     "name": "stdout",
     "output_type": "stream",
     "text": [
      "<class 'pandas.core.frame.DataFrame'>\n",
      "RangeIndex: 590743 entries, 0 to 590742\n",
      "Data columns (total 15 columns):\n",
      " #   Column                  Non-Null Count   Dtype  \n",
      "---  ------                  --------------   -----  \n",
      " 0   Hugo_Symbol             590743 non-null  object \n",
      " 1   Chromosome              590743 non-null  object \n",
      " 2   Variant_Classification  590743 non-null  object \n",
      " 3   HGVSp_Short             579689 non-null  object \n",
      " 4   Consequence             590743 non-null  object \n",
      " 5   TRANSCRIPT_STRAND       590743 non-null  float64\n",
      " 6   SYMBOL_SOURCE           590743 non-null  object \n",
      " 7   BIOTYPE                 590743 non-null  object \n",
      " 8   CANONICAL               417458 non-null  object \n",
      " 9   APPRIS                  556567 non-null  object \n",
      " 10  SIFT                    363205 non-null  object \n",
      " 11  PolyPhen                363683 non-null  object \n",
      " 12  IMPACT                  590743 non-null  object \n",
      " 13  case_id                 590743 non-null  object \n",
      " 14  project_id              590743 non-null  object \n",
      "dtypes: float64(1), object(14)\n",
      "memory usage: 67.6+ MB\n"
     ]
    }
   ],
   "source": [
    "tcga2_df.info()"
   ]
  },
  {
   "cell_type": "code",
   "execution_count": 8,
   "metadata": {
    "ExecuteTime": {
     "end_time": "2024-10-22T13:20:05.050458Z",
     "start_time": "2024-10-22T13:20:04.950495Z"
    }
   },
   "outputs": [],
   "source": [
    "tcga_df2 = tcga2_df.drop(['SYMBOL_SOURCE'], axis=1)"
   ]
  },
  {
   "cell_type": "code",
   "execution_count": 9,
   "metadata": {
    "ExecuteTime": {
     "end_time": "2024-10-22T13:20:05.114756Z",
     "start_time": "2024-10-22T13:20:05.052249Z"
    }
   },
   "outputs": [],
   "source": [
    "tcga_df2['SIFT'] =tcga_df2['SIFT'].fillna('tolerated_low_confidence(0.98)')"
   ]
  },
  {
   "cell_type": "code",
   "execution_count": 10,
   "metadata": {
    "ExecuteTime": {
     "end_time": "2024-10-22T13:20:05.196635Z",
     "start_time": "2024-10-22T13:20:05.118058Z"
    }
   },
   "outputs": [
    {
     "name": "stderr",
     "output_type": "stream",
     "text": [
      "/var/folders/s5/z4h29rk50jlbht219d69t3b00000gn/T/ipykernel_24289/2777643324.py:5: FutureWarning: A value is trying to be set on a copy of a DataFrame or Series through chained assignment using an inplace method.\n",
      "The behavior will change in pandas 3.0. This inplace method will never work because the intermediate object on which we are setting values always behaves as a copy.\n",
      "\n",
      "For example, when doing 'df[col].method(value, inplace=True)', try using 'df.method({col: value}, inplace=True)' or df[col] = df[col].method(value) instead, to perform the operation inplace on the original object.\n",
      "\n",
      "\n",
      "  tcga2_df['APPRIS'].fillna(mode_value, inplace=True)\n"
     ]
    }
   ],
   "source": [
    "# 최빈값 (Mode) 구하기\n",
    "mode_value = tcga2_df['APPRIS'].mode()[0]  # P1이 최빈값일 가능성이 높음\n",
    "\n",
    "# 최빈값으로 결측값 채우기\n",
    "tcga2_df['APPRIS'].fillna(mode_value, inplace=True)\n"
   ]
  },
  {
   "cell_type": "code",
   "execution_count": 11,
   "metadata": {
    "ExecuteTime": {
     "end_time": "2024-10-22T13:20:05.259219Z",
     "start_time": "2024-10-22T13:20:05.199306Z"
    }
   },
   "outputs": [],
   "source": [
    "tcga2_df['CANONICAL'] = tcga2_df['CANONICAL'].fillna('NO')"
   ]
  },
  {
   "cell_type": "code",
   "execution_count": 12,
   "metadata": {
    "ExecuteTime": {
     "end_time": "2024-10-22T13:20:05.330068Z",
     "start_time": "2024-10-22T13:20:05.260930Z"
    }
   },
   "outputs": [],
   "source": [
    "tcga2_df['PolyPhen'] = tcga2_df['PolyPhen'].fillna('unknown(0)')"
   ]
  },
  {
   "cell_type": "code",
   "execution_count": 13,
   "metadata": {
    "ExecuteTime": {
     "end_time": "2024-10-22T13:20:06.746341Z",
     "start_time": "2024-10-22T13:20:05.582392Z"
    }
   },
   "outputs": [
    {
     "name": "stderr",
     "output_type": "stream",
     "text": [
      "/var/folders/s5/z4h29rk50jlbht219d69t3b00000gn/T/ipykernel_24289/3383463561.py:7: FutureWarning: A value is trying to be set on a copy of a DataFrame or Series through chained assignment using an inplace method.\n",
      "The behavior will change in pandas 3.0. This inplace method will never work because the intermediate object on which we are setting values always behaves as a copy.\n",
      "\n",
      "For example, when doing 'df[col].method(value, inplace=True)', try using 'df.method({col: value}, inplace=True)' or df[col] = df[col].method(value) instead, to perform the operation inplace on the original object.\n",
      "\n",
      "\n",
      "  tcga2_df[column].fillna(mode_value, inplace=True)  # 최빈값으로 결측값 채우기\n"
     ]
    },
    {
     "name": "stdout",
     "output_type": "stream",
     "text": [
      "Hugo_Symbol                   0\n",
      "Chromosome                    0\n",
      "Variant_Classification        0\n",
      "HGVSp_Short               11054\n",
      "Consequence                   0\n",
      "TRANSCRIPT_STRAND             0\n",
      "SYMBOL_SOURCE                 0\n",
      "BIOTYPE                       0\n",
      "CANONICAL                     0\n",
      "APPRIS                        0\n",
      "SIFT                          0\n",
      "PolyPhen                      0\n",
      "IMPACT                        0\n",
      "case_id                       0\n",
      "project_id                    0\n",
      "dtype: int64\n"
     ]
    }
   ],
   "source": [
    "# 'HGVSp_Short'를 제외한 나머지 열들의 결측값을 최빈값으로 채우기\n",
    "columns_to_fill = tcga2_df.columns.difference(['HGVSp_Short'])  # 'HGVSp_Short'를 제외한 나머지 열 선택\n",
    "\n",
    "for column in columns_to_fill:\n",
    "    if tcga2_df[column].isnull().sum() > 0:  # 결측값이 있는 열만 처리\n",
    "        mode_value = tcga2_df[column].mode()[0]  # 해당 열의 최빈값 구하기\n",
    "        tcga2_df[column].fillna(mode_value, inplace=True)  # 최빈값으로 결측값 채우기\n",
    "\n",
    "# 결과 확인\n",
    "print(tcga2_df.isnull().sum())\n"
   ]
  },
  {
   "cell_type": "code",
   "execution_count": 14,
   "metadata": {
    "ExecuteTime": {
     "end_time": "2024-10-22T13:20:49.195576Z",
     "start_time": "2024-10-22T13:20:47.916020Z"
    }
   },
   "outputs": [
    {
     "data": {
      "text/html": [
       "<div>\n",
       "<style scoped>\n",
       "    .dataframe tbody tr th:only-of-type {\n",
       "        vertical-align: middle;\n",
       "    }\n",
       "\n",
       "    .dataframe tbody tr th {\n",
       "        vertical-align: top;\n",
       "    }\n",
       "\n",
       "    .dataframe thead th {\n",
       "        text-align: right;\n",
       "    }\n",
       "</style>\n",
       "<table border=\"1\" class=\"dataframe\">\n",
       "  <thead>\n",
       "    <tr style=\"text-align: right;\">\n",
       "      <th></th>\n",
       "      <th>Hugo_Symbol</th>\n",
       "      <th>Chromosome</th>\n",
       "      <th>Variant_Classification</th>\n",
       "      <th>HGVSp_Short</th>\n",
       "      <th>Consequence</th>\n",
       "      <th>TRANSCRIPT_STRAND</th>\n",
       "      <th>SYMBOL_SOURCE</th>\n",
       "      <th>BIOTYPE</th>\n",
       "      <th>CANONICAL</th>\n",
       "      <th>APPRIS</th>\n",
       "      <th>SIFT</th>\n",
       "      <th>PolyPhen</th>\n",
       "      <th>IMPACT</th>\n",
       "      <th>case_id</th>\n",
       "      <th>project_id</th>\n",
       "    </tr>\n",
       "  </thead>\n",
       "  <tbody>\n",
       "    <tr>\n",
       "      <th>0</th>\n",
       "      <td>WRAP73</td>\n",
       "      <td>chr1</td>\n",
       "      <td>Silent</td>\n",
       "      <td>p.P18=</td>\n",
       "      <td>synonymous_variant</td>\n",
       "      <td>-1.0</td>\n",
       "      <td>HGNC</td>\n",
       "      <td>protein_coding</td>\n",
       "      <td>YES</td>\n",
       "      <td>P1</td>\n",
       "      <td>deleterious(0)</td>\n",
       "      <td>unknown(0)</td>\n",
       "      <td>LOW</td>\n",
       "      <td>ce727e9e-325d-41d8-bfaf-0051418b9bef</td>\n",
       "      <td>TCGA-SKCM</td>\n",
       "    </tr>\n",
       "    <tr>\n",
       "      <th>1</th>\n",
       "      <td>TEKT2</td>\n",
       "      <td>chr1</td>\n",
       "      <td>Missense_Mutation</td>\n",
       "      <td>p.R177W</td>\n",
       "      <td>missense_variant</td>\n",
       "      <td>1.0</td>\n",
       "      <td>HGNC</td>\n",
       "      <td>protein_coding</td>\n",
       "      <td>YES</td>\n",
       "      <td>P1</td>\n",
       "      <td>deleterious(0.01)</td>\n",
       "      <td>probably_damaging(0.977)</td>\n",
       "      <td>MODERATE</td>\n",
       "      <td>ce727e9e-325d-41d8-bfaf-0051418b9bef</td>\n",
       "      <td>TCGA-SKCM</td>\n",
       "    </tr>\n",
       "    <tr>\n",
       "      <th>2</th>\n",
       "      <td>GJA5</td>\n",
       "      <td>chr1</td>\n",
       "      <td>Missense_Mutation</td>\n",
       "      <td>p.A111V</td>\n",
       "      <td>missense_variant</td>\n",
       "      <td>-1.0</td>\n",
       "      <td>HGNC</td>\n",
       "      <td>protein_coding</td>\n",
       "      <td>NO</td>\n",
       "      <td>P1</td>\n",
       "      <td>tolerated(0.16)</td>\n",
       "      <td>benign(0.046)</td>\n",
       "      <td>MODERATE</td>\n",
       "      <td>ce727e9e-325d-41d8-bfaf-0051418b9bef</td>\n",
       "      <td>TCGA-SKCM</td>\n",
       "    </tr>\n",
       "  </tbody>\n",
       "</table>\n",
       "</div>"
      ],
      "text/plain": [
       "  Hugo_Symbol Chromosome Variant_Classification HGVSp_Short  \\\n",
       "0      WRAP73       chr1                 Silent      p.P18=   \n",
       "1       TEKT2       chr1      Missense_Mutation     p.R177W   \n",
       "2        GJA5       chr1      Missense_Mutation     p.A111V   \n",
       "\n",
       "          Consequence  TRANSCRIPT_STRAND SYMBOL_SOURCE         BIOTYPE  \\\n",
       "0  synonymous_variant               -1.0          HGNC  protein_coding   \n",
       "1    missense_variant                1.0          HGNC  protein_coding   \n",
       "2    missense_variant               -1.0          HGNC  protein_coding   \n",
       "\n",
       "  CANONICAL APPRIS               SIFT                  PolyPhen    IMPACT  \\\n",
       "0       YES     P1     deleterious(0)                unknown(0)       LOW   \n",
       "1       YES     P1  deleterious(0.01)  probably_damaging(0.977)  MODERATE   \n",
       "2        NO     P1    tolerated(0.16)             benign(0.046)  MODERATE   \n",
       "\n",
       "                                case_id project_id  \n",
       "0  ce727e9e-325d-41d8-bfaf-0051418b9bef  TCGA-SKCM  \n",
       "1  ce727e9e-325d-41d8-bfaf-0051418b9bef  TCGA-SKCM  \n",
       "2  ce727e9e-325d-41d8-bfaf-0051418b9bef  TCGA-SKCM  "
      ]
     },
     "execution_count": 14,
     "metadata": {},
     "output_type": "execute_result"
    }
   ],
   "source": [
    "# 'splice'라는 문자열이 포함된 행 찾기\n",
    "splice_rows = tcga2_df[tcga2_df['HGVSp_Short'].str.contains('splice', case=False, na=False)]\n",
    "\n",
    "# 'splice'라는 문자열이 포함된 행을 제외한 나머지 데이터\n",
    "tcga2_df = tcga2_df[~tcga2_df['HGVSp_Short'].str.contains('splice', case=False, na=False)]\n",
    "\n",
    "# 결과 확인\n",
    "tcga2_df.head(3)\n",
    "\n"
   ]
  },
  {
   "cell_type": "code",
   "execution_count": 15,
   "metadata": {
    "ExecuteTime": {
     "end_time": "2024-10-22T13:20:51.477355Z",
     "start_time": "2024-10-22T13:20:51.258510Z"
    }
   },
   "outputs": [
    {
     "data": {
      "text/html": [
       "<div>\n",
       "<style scoped>\n",
       "    .dataframe tbody tr th:only-of-type {\n",
       "        vertical-align: middle;\n",
       "    }\n",
       "\n",
       "    .dataframe tbody tr th {\n",
       "        vertical-align: top;\n",
       "    }\n",
       "\n",
       "    .dataframe thead th {\n",
       "        text-align: right;\n",
       "    }\n",
       "</style>\n",
       "<table border=\"1\" class=\"dataframe\">\n",
       "  <thead>\n",
       "    <tr style=\"text-align: right;\">\n",
       "      <th></th>\n",
       "      <th>Hugo_Symbol</th>\n",
       "      <th>Chromosome</th>\n",
       "      <th>Variant_Classification</th>\n",
       "      <th>HGVSp_Short</th>\n",
       "      <th>Consequence</th>\n",
       "      <th>TRANSCRIPT_STRAND</th>\n",
       "      <th>SYMBOL_SOURCE</th>\n",
       "      <th>BIOTYPE</th>\n",
       "      <th>CANONICAL</th>\n",
       "      <th>APPRIS</th>\n",
       "      <th>SIFT</th>\n",
       "      <th>PolyPhen</th>\n",
       "      <th>IMPACT</th>\n",
       "      <th>case_id</th>\n",
       "      <th>project_id</th>\n",
       "    </tr>\n",
       "  </thead>\n",
       "  <tbody>\n",
       "    <tr>\n",
       "      <th>0</th>\n",
       "      <td>WRAP73</td>\n",
       "      <td>chr1</td>\n",
       "      <td>Silent</td>\n",
       "      <td>p.P18=</td>\n",
       "      <td>synonymous_variant</td>\n",
       "      <td>-1.0</td>\n",
       "      <td>HGNC</td>\n",
       "      <td>protein_coding</td>\n",
       "      <td>YES</td>\n",
       "      <td>P1</td>\n",
       "      <td>deleterious(0)</td>\n",
       "      <td>unknown(0)</td>\n",
       "      <td>LOW</td>\n",
       "      <td>ce727e9e-325d-41d8-bfaf-0051418b9bef</td>\n",
       "      <td>TCGA-SKCM</td>\n",
       "    </tr>\n",
       "    <tr>\n",
       "      <th>1</th>\n",
       "      <td>TEKT2</td>\n",
       "      <td>chr1</td>\n",
       "      <td>Missense_Mutation</td>\n",
       "      <td>p.R177W</td>\n",
       "      <td>missense_variant</td>\n",
       "      <td>1.0</td>\n",
       "      <td>HGNC</td>\n",
       "      <td>protein_coding</td>\n",
       "      <td>YES</td>\n",
       "      <td>P1</td>\n",
       "      <td>deleterious(0.01)</td>\n",
       "      <td>probably_damaging(0.977)</td>\n",
       "      <td>MODERATE</td>\n",
       "      <td>ce727e9e-325d-41d8-bfaf-0051418b9bef</td>\n",
       "      <td>TCGA-SKCM</td>\n",
       "    </tr>\n",
       "    <tr>\n",
       "      <th>2</th>\n",
       "      <td>GJA5</td>\n",
       "      <td>chr1</td>\n",
       "      <td>Missense_Mutation</td>\n",
       "      <td>p.A111V</td>\n",
       "      <td>missense_variant</td>\n",
       "      <td>-1.0</td>\n",
       "      <td>HGNC</td>\n",
       "      <td>protein_coding</td>\n",
       "      <td>NO</td>\n",
       "      <td>P1</td>\n",
       "      <td>tolerated(0.16)</td>\n",
       "      <td>benign(0.046)</td>\n",
       "      <td>MODERATE</td>\n",
       "      <td>ce727e9e-325d-41d8-bfaf-0051418b9bef</td>\n",
       "      <td>TCGA-SKCM</td>\n",
       "    </tr>\n",
       "  </tbody>\n",
       "</table>\n",
       "</div>"
      ],
      "text/plain": [
       "  Hugo_Symbol Chromosome Variant_Classification HGVSp_Short  \\\n",
       "0      WRAP73       chr1                 Silent      p.P18=   \n",
       "1       TEKT2       chr1      Missense_Mutation     p.R177W   \n",
       "2        GJA5       chr1      Missense_Mutation     p.A111V   \n",
       "\n",
       "          Consequence  TRANSCRIPT_STRAND SYMBOL_SOURCE         BIOTYPE  \\\n",
       "0  synonymous_variant               -1.0          HGNC  protein_coding   \n",
       "1    missense_variant                1.0          HGNC  protein_coding   \n",
       "2    missense_variant               -1.0          HGNC  protein_coding   \n",
       "\n",
       "  CANONICAL APPRIS               SIFT                  PolyPhen    IMPACT  \\\n",
       "0       YES     P1     deleterious(0)                unknown(0)       LOW   \n",
       "1       YES     P1  deleterious(0.01)  probably_damaging(0.977)  MODERATE   \n",
       "2        NO     P1    tolerated(0.16)             benign(0.046)  MODERATE   \n",
       "\n",
       "                                case_id project_id  \n",
       "0  ce727e9e-325d-41d8-bfaf-0051418b9bef  TCGA-SKCM  \n",
       "1  ce727e9e-325d-41d8-bfaf-0051418b9bef  TCGA-SKCM  \n",
       "2  ce727e9e-325d-41d8-bfaf-0051418b9bef  TCGA-SKCM  "
      ]
     },
     "execution_count": 15,
     "metadata": {},
     "output_type": "execute_result"
    }
   ],
   "source": [
    "# HGVSp_Short 열에서 NaN 값을 가진 행 제거\n",
    "tcga2_df = tcga2_df.dropna(subset=['HGVSp_Short'])\n",
    "\n",
    "# 결과 확인\n",
    "tcga2_df.head(3)\n"
   ]
  },
  {
   "cell_type": "code",
   "execution_count": 16,
   "metadata": {
    "ExecuteTime": {
     "end_time": "2024-10-22T13:20:53.473181Z",
     "start_time": "2024-10-22T13:20:53.301913Z"
    }
   },
   "outputs": [
    {
     "name": "stdout",
     "output_type": "stream",
     "text": [
      "0      P18=\n",
      "1     R177W\n",
      "2     A111V\n",
      "3      F76=\n",
      "4    E1892K\n",
      "Name: HGVSp_Short, dtype: object\n"
     ]
    }
   ],
   "source": [
    "# 'p.'을 없애고, '='를 앞에 있는 대문자 알파벳으로 바꾸는 함수\n",
    "def modify_hgvsp(value):\n",
    "    # 먼저 'p.' 제거\n",
    "    value = value.replace('p.', '')\n",
    "    return value\n",
    "\n",
    "# HGVSp_Short 칼럼 수정\n",
    "tcga2_df['HGVSp_Short'] = tcga2_df['HGVSp_Short'].apply(modify_hgvsp)\n",
    "\n",
    "# 결과 확인\n",
    "print(tcga2_df['HGVSp_Short'].head())\n"
   ]
  },
  {
   "cell_type": "code",
   "execution_count": 17,
   "metadata": {
    "ExecuteTime": {
     "end_time": "2024-10-22T13:20:56.586416Z",
     "start_time": "2024-10-22T13:20:55.811981Z"
    }
   },
   "outputs": [
    {
     "data": {
      "text/plain": [
       "0      P18=\n",
       "1     R177W\n",
       "2     A111V\n",
       "3      F76=\n",
       "4    E1892K\n",
       "Name: HGVSp_Short, dtype: object"
      ]
     },
     "execution_count": 17,
     "metadata": {},
     "output_type": "execute_result"
    }
   ],
   "source": [
    "# 'fs*숫자' 패턴에서 '*숫자' 부분을 제거하는 함수\n",
    "def remove_fs_stop_code(value):\n",
    "    # 'fs*숫자' 패턴에서 '*숫자' 부분을 제거\n",
    "    return re.sub(r'fs\\*\\d+', 'fs', value)\n",
    "\n",
    "# HGVSp_Short 칼럼에서 'fs*숫자' 제거\n",
    "tcga2_df['HGVSp_Short'] = tcga2_df['HGVSp_Short'].apply(remove_fs_stop_code)\n",
    "\n",
    "# 결과 확인\n",
    "tcga2_df['HGVSp_Short'].head()\n"
   ]
  },
  {
   "cell_type": "code",
   "execution_count": 18,
   "metadata": {
    "ExecuteTime": {
     "end_time": "2024-10-22T13:21:01.073913Z",
     "start_time": "2024-10-22T13:21:00.326975Z"
    }
   },
   "outputs": [
    {
     "name": "stdout",
     "output_type": "stream",
     "text": [
      "0      P18P\n",
      "1     R177W\n",
      "2     A111V\n",
      "3      F76F\n",
      "4    E1892K\n",
      "Name: HGVSp_Short, dtype: object\n"
     ]
    }
   ],
   "source": [
    "# '='을 값의 맨 앞 알파벳으로 바꾸는 함수\n",
    "def replace_equals_with_first_alpha(value):\n",
    "    # 먼저 알파벳을 찾고 '='을 그 알파벳으로 바꿉니다\n",
    "    first_alpha = re.search(r'[A-Za-z]', value)\n",
    "    if first_alpha:\n",
    "        value = value.replace('=', first_alpha.group(0))\n",
    "    return value\n",
    "\n",
    "# HGVSp_Short 칼럼 수정\n",
    "tcga2_df['HGVSp_Short'] = tcga2_df['HGVSp_Short'].apply(replace_equals_with_first_alpha)\n",
    "\n",
    "# 결과 확인\n",
    "print(tcga2_df['HGVSp_Short'].head())\n"
   ]
  },
  {
   "cell_type": "code",
   "execution_count": 19,
   "metadata": {
    "ExecuteTime": {
     "end_time": "2024-10-22T13:21:03.099629Z",
     "start_time": "2024-10-22T13:21:02.691229Z"
    }
   },
   "outputs": [
    {
     "name": "stdout",
     "output_type": "stream",
     "text": [
      "project_id\n",
      "TCGA-UCEC      147600\n",
      "TCGA-SKCM       72846\n",
      "TCGA-COAD       58434\n",
      "TCGA-STES       49710\n",
      "TCGA-LUAD       40973\n",
      "TCGA-LUSC       36377\n",
      "TCGA-BLCA       28257\n",
      "TCGA-BRCA       21954\n",
      "TCGA-HNSC       20435\n",
      "TCGA-CESC       16322\n",
      "TCGA-GBMLGG     13197\n",
      "TCGA-LIHC       10435\n",
      "TCGA-OV          9534\n",
      "TCGA-LGG         8393\n",
      "TCGA-KIRC        6272\n",
      "TCGA-PRAD        5953\n",
      "TCGA-PAAD        5797\n",
      "TCGA-KIPAN       5330\n",
      "TCGA-SARC        3961\n",
      "TCGA-ACC         1929\n",
      "TCGA-THCA        1646\n",
      "TCGA-DLBC        1619\n",
      "TCGA-LAML         958\n",
      "TCGA-TGCT         585\n",
      "TCGA-THYM         537\n",
      "TCGA-PCPG         496\n",
      "Name: count, dtype: int64\n"
     ]
    }
   ],
   "source": [
    "# KIRP + KICH를 KIPAN으로 변환\n",
    "tcga2_df['project_id'] = tcga2_df['project_id'].replace({'TCGA-KIRP': 'TCGA-KIPAN', 'TCGA-KICH': 'TCGA-KIPAN'})\n",
    "\n",
    "# GBM을 GBMLGG로 변환\n",
    "tcga2_df['project_id'] = tcga2_df['project_id'].replace({'TCGA-GBM': 'TCGA-GBMLGG'})\n",
    "\n",
    "# ESCA + STAD를 STES로 변환\n",
    "tcga2_df['project_id'] = tcga2_df['project_id'].replace({'TCGA-ESCA': 'TCGA-STES', 'TCGA-STAD': 'TCGA-STES'})\n",
    "\n",
    "# 결과 확인\n",
    "project_id_counts = tcga2_df['project_id'].value_counts()\n",
    "print(project_id_counts)\n"
   ]
  },
  {
   "cell_type": "code",
   "execution_count": 20,
   "metadata": {
    "ExecuteTime": {
     "end_time": "2024-10-22T13:21:07.194645Z",
     "start_time": "2024-10-22T13:21:07.052466Z"
    }
   },
   "outputs": [
    {
     "name": "stdout",
     "output_type": "stream",
     "text": [
      "project_id\n",
      "UCEC      147600\n",
      "SKCM       72846\n",
      "COAD       58434\n",
      "STES       49710\n",
      "LUAD       40973\n",
      "LUSC       36377\n",
      "BLCA       28257\n",
      "BRCA       21954\n",
      "HNSC       20435\n",
      "CESC       16322\n",
      "GBMLGG     13197\n",
      "LIHC       10435\n",
      "OV          9534\n",
      "LGG         8393\n",
      "KIRC        6272\n",
      "PRAD        5953\n",
      "PAAD        5797\n",
      "KIPAN       5330\n",
      "SARC        3961\n",
      "ACC         1929\n",
      "THCA        1646\n",
      "DLBC        1619\n",
      "LAML         958\n",
      "TGCT         585\n",
      "THYM         537\n",
      "PCPG         496\n",
      "Name: count, dtype: int64\n"
     ]
    }
   ],
   "source": [
    "# 'TCGA-' 접두사 제거\n",
    "tcga2_df['project_id'] = tcga2_df['project_id'].str.replace('TCGA-', '')\n",
    "\n",
    "# 결과 확인\n",
    "project_id_counts = tcga2_df['project_id'].value_counts()\n",
    "print(project_id_counts)\n"
   ]
  },
  {
   "cell_type": "markdown",
   "metadata": {},
   "source": [
    "### 데이터 합치기 \n",
    "### project_id만 사용"
   ]
  },
  {
   "cell_type": "code",
   "execution_count": 21,
   "metadata": {
    "ExecuteTime": {
     "end_time": "2024-10-22T13:22:07.044788Z",
     "start_time": "2024-10-22T13:21:08.496609Z"
    }
   },
   "outputs": [
    {
     "name": "stdout",
     "output_type": "stream",
     "text": [
      "  Mutation_A2M Mutation_AAAS Mutation_AADAT Mutation_AARS1 Mutation_ABAT  \\\n",
      "0           WT            WT             WT             WT            WT   \n",
      "1           WT            WT             WT             WT            WT   \n",
      "2        R895R            WT             WT             WT            WT   \n",
      "3           WT            WT             WT             WT            WT   \n",
      "4           WT            WT             WT             WT            WT   \n",
      "\n",
      "  Mutation_ABCA1 Mutation_ABCA2 Mutation_ABCA3 Mutation_ABCA4 Mutation_ABCA5  \\\n",
      "0             WT             WT             WT             WT             WT   \n",
      "1             WT             WT             WT             WT             WT   \n",
      "2             WT             WT             WT             WT             WT   \n",
      "3             WT             WT             WT             WT             WT   \n",
      "4             WT             WT             WT             WT             WT   \n",
      "\n",
      "   ... project_id_ZNF292 project_id_ZNF365 project_id_ZNF639  \\\n",
      "0  ...                WT                WT                WT   \n",
      "1  ...                WT                WT                WT   \n",
      "2  ...                WT                WT                WT   \n",
      "3  ...                WT                WT                WT   \n",
      "4  ...                WT                WT                WT   \n",
      "\n",
      "  project_id_ZNF707 project_id_ZNFX1 project_id_ZNRF4 project_id_ZPBP  \\\n",
      "0                WT               WT               WT              WT   \n",
      "1                WT               WT               WT              WT   \n",
      "2                WT               WT               WT              WT   \n",
      "3                WT               WT               WT              WT   \n",
      "4                WT               WT               WT              WT   \n",
      "\n",
      "  project_id_ZW10 project_id_ZWINT project_id_ZYX  \n",
      "0              WT               WT             WT  \n",
      "1              WT               WT             WT  \n",
      "2              WT               WT             WT  \n",
      "3              WT               WT             WT  \n",
      "4              WT               WT             WT  \n",
      "\n",
      "[5 rows x 8768 columns]\n"
     ]
    }
   ],
   "source": [
    "# Step 2: Melt train_df to have a long format with gene and mutation columns\n",
    "train_melted = train_df.melt(id_vars=['ID'], var_name='Gene', value_name='Mutation')\n",
    "\n",
    "# Step 3: Group tcga_df by 'case_id' and 'Hugo_Symbol', aggregate mutations\n",
    "tcga_grouped = tcga2_df.groupby(['Hugo_Symbol', 'HGVSp_Short']).agg({\n",
    "    'project_id': 'first',\n",
    "}).reset_index()\n",
    "\n",
    "# Step 4: Merge the melted train data with tcga_grouped based on gene and mutation\n",
    "merged_train_df = pd.merge(train_melted, tcga_grouped, left_on=['Gene', 'Mutation'], right_on=['Hugo_Symbol', 'HGVSp_Short'], how='left')\n",
    "\n",
    "# Step 5: Fill NaN values with 'WT'\n",
    "merged_train_df = merged_train_df.fillna('WT')\n",
    "\n",
    "# Step 6: Pivot the merged data back to wide format\n",
    "final_train_df = merged_train_df.pivot(index='ID', columns='Gene', values=['Mutation','project_id'])\n",
    "\n",
    "# Step 7: Flatten multi-level column names for easier access\n",
    "final_train_df.columns = ['_'.join(col).strip() for col in final_train_df.columns.values]\n",
    "\n",
    "# Step 8: Inspect the final train DataFrame\n",
    "final_train_df = final_train_df.reset_index(drop=True)\n",
    "# Step 9: SUBCLASS와 관련된 열 제거 (train_df에서만 존재)\n",
    "final_train_df = final_train_df.drop(columns=[col for col in final_train_df.columns if 'SUBCLASS' in col])\n",
    "\n",
    "# Step 10: Inspect the final train DataFrame after removing SUBCLASS-related columns\n",
    "print(final_train_df.head())\n"
   ]
  },
  {
   "cell_type": "code",
   "execution_count": 22,
   "metadata": {
    "ExecuteTime": {
     "end_time": "2024-10-22T13:22:27.183537Z",
     "start_time": "2024-10-22T13:22:07.048130Z"
    }
   },
   "outputs": [],
   "source": [
    "import pandas as pd\n",
    "\n",
    "\n",
    "# Step 2: Melt test_df to have a long format with gene and mutation columns\n",
    "test_melted = test_df.melt(id_vars=['ID'], var_name='Gene', value_name='Mutation')\n",
    "\n",
    "# Step 3: Group tcga_df by 'case_id' and 'Hugo_Symbol', aggregate mutations\n",
    "tcga_grouped = tcga2_df.groupby(['Hugo_Symbol', 'HGVSp_Short']).agg({\n",
    "    'project_id': 'first',\n",
    "}).reset_index()\n",
    "\n",
    "# Step 4: Merge the melted test data with tcga_grouped based on gene and mutation\n",
    "merged_df = pd.merge(test_melted, tcga_grouped, left_on=['Gene', 'Mutation'], right_on=['Hugo_Symbol', 'HGVSp_Short'], how='left')\n",
    "# Step 5: Fill NaN values with 'WT'\n",
    "merged_df = merged_df.fillna('WT')\n",
    "# Step 6: Pivot the merged data back to wide format\n",
    "final_test_df = merged_df.pivot(index='ID', columns='Gene', values=['Mutation','project_id'])\n",
    "\n",
    "# Step 7: Flatten multi-level column names for easier access\n",
    "final_test_df.columns = ['_'.join(col).strip() for col in final_test_df.columns.values]\n",
    "\n",
    "# Step 8: Save final result\n",
    "final_test_df = final_test_df.reset_index(drop=True)"
   ]
  },
  {
   "cell_type": "code",
   "execution_count": 23,
   "metadata": {
    "ExecuteTime": {
     "end_time": "2024-10-22T13:22:27.195793Z",
     "start_time": "2024-10-22T13:22:27.184994Z"
    }
   },
   "outputs": [],
   "source": [
    "final_train_df['SUBCLASS'] = train_df['SUBCLASS']\n",
    "final_train_df['ID'] = train_df['ID']\n",
    "final_test_df['ID'] = test_df['ID']"
   ]
  },
  {
   "cell_type": "code",
   "execution_count": 24,
   "metadata": {
    "ExecuteTime": {
     "end_time": "2024-10-22T13:22:27.224166Z",
     "start_time": "2024-10-22T13:22:27.200720Z"
    }
   },
   "outputs": [
    {
     "data": {
      "text/html": [
       "<div>\n",
       "<style scoped>\n",
       "    .dataframe tbody tr th:only-of-type {\n",
       "        vertical-align: middle;\n",
       "    }\n",
       "\n",
       "    .dataframe tbody tr th {\n",
       "        vertical-align: top;\n",
       "    }\n",
       "\n",
       "    .dataframe thead th {\n",
       "        text-align: right;\n",
       "    }\n",
       "</style>\n",
       "<table border=\"1\" class=\"dataframe\">\n",
       "  <thead>\n",
       "    <tr style=\"text-align: right;\">\n",
       "      <th></th>\n",
       "      <th>Mutation_A2M</th>\n",
       "      <th>Mutation_AAAS</th>\n",
       "      <th>Mutation_AADAT</th>\n",
       "      <th>Mutation_AARS1</th>\n",
       "      <th>Mutation_ABAT</th>\n",
       "      <th>Mutation_ABCA1</th>\n",
       "      <th>Mutation_ABCA2</th>\n",
       "      <th>Mutation_ABCA3</th>\n",
       "      <th>Mutation_ABCA4</th>\n",
       "      <th>Mutation_ABCA5</th>\n",
       "      <th>...</th>\n",
       "      <th>project_id_ZNF639</th>\n",
       "      <th>project_id_ZNF707</th>\n",
       "      <th>project_id_ZNFX1</th>\n",
       "      <th>project_id_ZNRF4</th>\n",
       "      <th>project_id_ZPBP</th>\n",
       "      <th>project_id_ZW10</th>\n",
       "      <th>project_id_ZWINT</th>\n",
       "      <th>project_id_ZYX</th>\n",
       "      <th>SUBCLASS</th>\n",
       "      <th>ID</th>\n",
       "    </tr>\n",
       "  </thead>\n",
       "  <tbody>\n",
       "    <tr>\n",
       "      <th>0</th>\n",
       "      <td>WT</td>\n",
       "      <td>WT</td>\n",
       "      <td>WT</td>\n",
       "      <td>WT</td>\n",
       "      <td>WT</td>\n",
       "      <td>WT</td>\n",
       "      <td>WT</td>\n",
       "      <td>WT</td>\n",
       "      <td>WT</td>\n",
       "      <td>WT</td>\n",
       "      <td>...</td>\n",
       "      <td>WT</td>\n",
       "      <td>WT</td>\n",
       "      <td>WT</td>\n",
       "      <td>WT</td>\n",
       "      <td>WT</td>\n",
       "      <td>WT</td>\n",
       "      <td>WT</td>\n",
       "      <td>WT</td>\n",
       "      <td>KIPAN</td>\n",
       "      <td>TRAIN_0000</td>\n",
       "    </tr>\n",
       "    <tr>\n",
       "      <th>1</th>\n",
       "      <td>WT</td>\n",
       "      <td>WT</td>\n",
       "      <td>WT</td>\n",
       "      <td>WT</td>\n",
       "      <td>WT</td>\n",
       "      <td>WT</td>\n",
       "      <td>WT</td>\n",
       "      <td>WT</td>\n",
       "      <td>WT</td>\n",
       "      <td>WT</td>\n",
       "      <td>...</td>\n",
       "      <td>WT</td>\n",
       "      <td>WT</td>\n",
       "      <td>WT</td>\n",
       "      <td>WT</td>\n",
       "      <td>WT</td>\n",
       "      <td>WT</td>\n",
       "      <td>WT</td>\n",
       "      <td>WT</td>\n",
       "      <td>SARC</td>\n",
       "      <td>TRAIN_0001</td>\n",
       "    </tr>\n",
       "    <tr>\n",
       "      <th>2</th>\n",
       "      <td>R895R</td>\n",
       "      <td>WT</td>\n",
       "      <td>WT</td>\n",
       "      <td>WT</td>\n",
       "      <td>WT</td>\n",
       "      <td>WT</td>\n",
       "      <td>WT</td>\n",
       "      <td>WT</td>\n",
       "      <td>WT</td>\n",
       "      <td>WT</td>\n",
       "      <td>...</td>\n",
       "      <td>WT</td>\n",
       "      <td>WT</td>\n",
       "      <td>WT</td>\n",
       "      <td>WT</td>\n",
       "      <td>WT</td>\n",
       "      <td>WT</td>\n",
       "      <td>WT</td>\n",
       "      <td>WT</td>\n",
       "      <td>SKCM</td>\n",
       "      <td>TRAIN_0002</td>\n",
       "    </tr>\n",
       "  </tbody>\n",
       "</table>\n",
       "<p>3 rows × 8770 columns</p>\n",
       "</div>"
      ],
      "text/plain": [
       "  Mutation_A2M Mutation_AAAS Mutation_AADAT Mutation_AARS1 Mutation_ABAT  \\\n",
       "0           WT            WT             WT             WT            WT   \n",
       "1           WT            WT             WT             WT            WT   \n",
       "2        R895R            WT             WT             WT            WT   \n",
       "\n",
       "  Mutation_ABCA1 Mutation_ABCA2 Mutation_ABCA3 Mutation_ABCA4 Mutation_ABCA5  \\\n",
       "0             WT             WT             WT             WT             WT   \n",
       "1             WT             WT             WT             WT             WT   \n",
       "2             WT             WT             WT             WT             WT   \n",
       "\n",
       "   ... project_id_ZNF639 project_id_ZNF707 project_id_ZNFX1 project_id_ZNRF4  \\\n",
       "0  ...                WT                WT               WT               WT   \n",
       "1  ...                WT                WT               WT               WT   \n",
       "2  ...                WT                WT               WT               WT   \n",
       "\n",
       "  project_id_ZPBP project_id_ZW10 project_id_ZWINT project_id_ZYX SUBCLASS  \\\n",
       "0              WT              WT               WT             WT    KIPAN   \n",
       "1              WT              WT               WT             WT     SARC   \n",
       "2              WT              WT               WT             WT     SKCM   \n",
       "\n",
       "           ID  \n",
       "0  TRAIN_0000  \n",
       "1  TRAIN_0001  \n",
       "2  TRAIN_0002  \n",
       "\n",
       "[3 rows x 8770 columns]"
      ]
     },
     "execution_count": 24,
     "metadata": {},
     "output_type": "execute_result"
    }
   ],
   "source": [
    "final_train_df.head(3)"
   ]
  },
  {
   "cell_type": "code",
   "execution_count": 25,
   "metadata": {
    "ExecuteTime": {
     "end_time": "2024-10-22T13:22:27.244652Z",
     "start_time": "2024-10-22T13:22:27.226198Z"
    }
   },
   "outputs": [
    {
     "data": {
      "text/html": [
       "<div>\n",
       "<style scoped>\n",
       "    .dataframe tbody tr th:only-of-type {\n",
       "        vertical-align: middle;\n",
       "    }\n",
       "\n",
       "    .dataframe tbody tr th {\n",
       "        vertical-align: top;\n",
       "    }\n",
       "\n",
       "    .dataframe thead th {\n",
       "        text-align: right;\n",
       "    }\n",
       "</style>\n",
       "<table border=\"1\" class=\"dataframe\">\n",
       "  <thead>\n",
       "    <tr style=\"text-align: right;\">\n",
       "      <th></th>\n",
       "      <th>Mutation_A2M</th>\n",
       "      <th>Mutation_AAAS</th>\n",
       "      <th>Mutation_AADAT</th>\n",
       "      <th>Mutation_AARS1</th>\n",
       "      <th>Mutation_ABAT</th>\n",
       "      <th>Mutation_ABCA1</th>\n",
       "      <th>Mutation_ABCA2</th>\n",
       "      <th>Mutation_ABCA3</th>\n",
       "      <th>Mutation_ABCA4</th>\n",
       "      <th>Mutation_ABCA5</th>\n",
       "      <th>...</th>\n",
       "      <th>project_id_ZNF365</th>\n",
       "      <th>project_id_ZNF639</th>\n",
       "      <th>project_id_ZNF707</th>\n",
       "      <th>project_id_ZNFX1</th>\n",
       "      <th>project_id_ZNRF4</th>\n",
       "      <th>project_id_ZPBP</th>\n",
       "      <th>project_id_ZW10</th>\n",
       "      <th>project_id_ZWINT</th>\n",
       "      <th>project_id_ZYX</th>\n",
       "      <th>ID</th>\n",
       "    </tr>\n",
       "  </thead>\n",
       "  <tbody>\n",
       "    <tr>\n",
       "      <th>0</th>\n",
       "      <td>WT</td>\n",
       "      <td>WT</td>\n",
       "      <td>WT</td>\n",
       "      <td>WT</td>\n",
       "      <td>WT</td>\n",
       "      <td>WT</td>\n",
       "      <td>WT</td>\n",
       "      <td>WT</td>\n",
       "      <td>WT</td>\n",
       "      <td>WT</td>\n",
       "      <td>...</td>\n",
       "      <td>WT</td>\n",
       "      <td>WT</td>\n",
       "      <td>WT</td>\n",
       "      <td>WT</td>\n",
       "      <td>WT</td>\n",
       "      <td>WT</td>\n",
       "      <td>WT</td>\n",
       "      <td>WT</td>\n",
       "      <td>WT</td>\n",
       "      <td>TEST_0000</td>\n",
       "    </tr>\n",
       "    <tr>\n",
       "      <th>1</th>\n",
       "      <td>WT</td>\n",
       "      <td>WT</td>\n",
       "      <td>WT</td>\n",
       "      <td>WT</td>\n",
       "      <td>WT</td>\n",
       "      <td>R587Q</td>\n",
       "      <td>WT</td>\n",
       "      <td>WT</td>\n",
       "      <td>WT</td>\n",
       "      <td>WT</td>\n",
       "      <td>...</td>\n",
       "      <td>WT</td>\n",
       "      <td>WT</td>\n",
       "      <td>WT</td>\n",
       "      <td>WT</td>\n",
       "      <td>WT</td>\n",
       "      <td>WT</td>\n",
       "      <td>WT</td>\n",
       "      <td>WT</td>\n",
       "      <td>WT</td>\n",
       "      <td>TEST_0001</td>\n",
       "    </tr>\n",
       "    <tr>\n",
       "      <th>2</th>\n",
       "      <td>WT</td>\n",
       "      <td>WT</td>\n",
       "      <td>WT</td>\n",
       "      <td>WT</td>\n",
       "      <td>WT</td>\n",
       "      <td>WT</td>\n",
       "      <td>WT</td>\n",
       "      <td>WT</td>\n",
       "      <td>WT</td>\n",
       "      <td>WT</td>\n",
       "      <td>...</td>\n",
       "      <td>WT</td>\n",
       "      <td>WT</td>\n",
       "      <td>WT</td>\n",
       "      <td>WT</td>\n",
       "      <td>WT</td>\n",
       "      <td>WT</td>\n",
       "      <td>WT</td>\n",
       "      <td>WT</td>\n",
       "      <td>WT</td>\n",
       "      <td>TEST_0002</td>\n",
       "    </tr>\n",
       "  </tbody>\n",
       "</table>\n",
       "<p>3 rows × 8769 columns</p>\n",
       "</div>"
      ],
      "text/plain": [
       "  Mutation_A2M Mutation_AAAS Mutation_AADAT Mutation_AARS1 Mutation_ABAT  \\\n",
       "0           WT            WT             WT             WT            WT   \n",
       "1           WT            WT             WT             WT            WT   \n",
       "2           WT            WT             WT             WT            WT   \n",
       "\n",
       "  Mutation_ABCA1 Mutation_ABCA2 Mutation_ABCA3 Mutation_ABCA4 Mutation_ABCA5  \\\n",
       "0             WT             WT             WT             WT             WT   \n",
       "1          R587Q             WT             WT             WT             WT   \n",
       "2             WT             WT             WT             WT             WT   \n",
       "\n",
       "   ... project_id_ZNF365 project_id_ZNF639 project_id_ZNF707 project_id_ZNFX1  \\\n",
       "0  ...                WT                WT                WT               WT   \n",
       "1  ...                WT                WT                WT               WT   \n",
       "2  ...                WT                WT                WT               WT   \n",
       "\n",
       "  project_id_ZNRF4 project_id_ZPBP project_id_ZW10 project_id_ZWINT  \\\n",
       "0               WT              WT              WT               WT   \n",
       "1               WT              WT              WT               WT   \n",
       "2               WT              WT              WT               WT   \n",
       "\n",
       "  project_id_ZYX         ID  \n",
       "0             WT  TEST_0000  \n",
       "1             WT  TEST_0001  \n",
       "2             WT  TEST_0002  \n",
       "\n",
       "[3 rows x 8769 columns]"
      ]
     },
     "execution_count": 25,
     "metadata": {},
     "output_type": "execute_result"
    }
   ],
   "source": [
    "final_test_df.head(3)"
   ]
  },
  {
   "cell_type": "code",
   "execution_count": 26,
   "metadata": {
    "ExecuteTime": {
     "end_time": "2024-10-22T13:22:27.261456Z",
     "start_time": "2024-10-22T13:22:27.250320Z"
    }
   },
   "outputs": [
    {
     "name": "stdout",
     "output_type": "stream",
     "text": [
      "train_df에만 있는 컬럼: {'SUBCLASS'}\n",
      "test_df에만 있는 컬럼: set()\n"
     ]
    }
   ],
   "source": [
    "# train_df와 test_df의 컬럼을 비교하는 코드\n",
    "train_columns = set(final_train_df.columns)\n",
    "test_columns = set(final_test_df.columns)\n",
    "\n",
    "# train_df에만 있고 test_df에는 없는 컬럼\n",
    "missing_in_test = train_columns - test_columns\n",
    "\n",
    "# test_df에만 있고 train_df에는 없는 컬럼\n",
    "missing_in_train = test_columns - train_columns\n",
    "\n",
    "print(f\"train_df에만 있는 컬럼: {missing_in_test}\")\n",
    "print(f\"test_df에만 있는 컬럼: {missing_in_train}\")\n"
   ]
  },
  {
   "cell_type": "code",
   "execution_count": 41,
   "metadata": {},
   "outputs": [],
   "source": [
    "final_test_df.to_csv(path+'final_test5.csv')"
   ]
  },
  {
   "cell_type": "code",
   "execution_count": 42,
   "metadata": {},
   "outputs": [],
   "source": [
    "final_train_df.to_csv(path+'final_train5.csv')"
   ]
  }
 ],
 "metadata": {
  "kernelspec": {
   "display_name": "Python 3",
   "language": "python",
   "name": "python3"
  },
  "language_info": {
   "codemirror_mode": {
    "name": "ipython",
    "version": 3
   },
   "file_extension": ".py",
   "mimetype": "text/x-python",
   "name": "python",
   "nbconvert_exporter": "python",
   "pygments_lexer": "ipython3",
   "version": "3.12.4"
  }
 },
 "nbformat": 4,
 "nbformat_minor": 2
}
